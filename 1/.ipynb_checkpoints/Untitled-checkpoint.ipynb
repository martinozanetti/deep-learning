{
 "cells": [
  {
   "cell_type": "code",
   "execution_count": 13,
   "id": "bc93f3e1",
   "metadata": {},
   "outputs": [
    {
     "name": "stdout",
     "output_type": "stream",
     "text": [
      "[0, 1, 2, 3, 4, 5, 6, 7, 8, 9, 10, 11, 12, 13, 14, 15]\n",
      "[3.1, 3.2, 3.3]\n",
      "[10, 25, 15]\n",
      "0.12\n",
      "10\n"
     ]
    }
   ],
   "source": [
    "v = []\n",
    "\n",
    "for n in range(16):\n",
    "    v.append(n)\n",
    "    \n",
    "print(v)\n",
    "    \n",
    "w = []\n",
    "w.append(3.1)\n",
    "w.append(3.2)\n",
    "w.append(3.3)\n",
    "\n",
    "print(w)\n",
    "\n",
    "mydic = {\n",
    "    'name': \"neuralnet\",\n",
    "    'loss': 0.12,\n",
    "    'weight': [10, 25, 15]}\n",
    "\n",
    "print(mydic[\"weight\"])\n",
    "\n",
    "print(mydic[\"loss\"])\n",
    "mydic[\"loss\"]=10\n",
    "print(mydic[\"loss\"])\n"
   ]
  },
  {
   "cell_type": "code",
   "execution_count": 19,
   "id": "91977ab7",
   "metadata": {},
   "outputs": [
    {
     "name": "stdout",
     "output_type": "stream",
     "text": [
      "2\n",
      ">>2\n",
      "6\n",
      ">>8\n",
      "3\n",
      ">>11\n",
      "8\n",
      ">>19\n",
      "9\n",
      ">>28\n",
      "11\n",
      ">>39\n",
      "-5\n",
      ">>34\n",
      "4.857142857142857\n"
     ]
    }
   ],
   "source": [
    "mylist = [2,6,3,8,9,11,-5] \n",
    "\n",
    "a=0\n",
    "for elem in mylist:\n",
    "    a+=elem\n",
    "    \n",
    "mean = a/len(mylist)\n",
    "print(mean)"
   ]
  },
  {
   "cell_type": "code",
   "execution_count": null,
   "id": "6c49fd14",
   "metadata": {},
   "outputs": [],
   "source": []
  }
 ],
 "metadata": {
  "kernelspec": {
   "display_name": "Python 3 (ipykernel)",
   "language": "python",
   "name": "python3"
  },
  "language_info": {
   "codemirror_mode": {
    "name": "ipython",
    "version": 3
   },
   "file_extension": ".py",
   "mimetype": "text/x-python",
   "name": "python",
   "nbconvert_exporter": "python",
   "pygments_lexer": "ipython3",
   "version": "3.9.7"
  }
 },
 "nbformat": 4,
 "nbformat_minor": 5
}
